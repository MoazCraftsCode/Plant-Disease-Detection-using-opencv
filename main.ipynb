{
 "cells": [
  {
   "cell_type": "code",
   "execution_count": 1,
   "id": "79629966",
   "metadata": {},
   "outputs": [],
   "source": [
    "#importing libraries\n",
    "import cv2\n",
    "import sys\n",
    "import tkinter\n",
    "from tkinter import filedialog"
   ]
  },
  {
   "cell_type": "code",
   "execution_count": null,
   "id": "b15c7f86",
   "metadata": {},
   "outputs": [],
   "source": [
    "#Processing original image to create channels\n",
    "def ProcessImage(self):\n",
    "#Loading orginal leaf image from file\n",
    "#imread funtion (name of file, flag) where flag= 0,1,2 specifies Grayscale, RGB or Alpha\n",
    "    OriginalImage = cv2.imread('images/leaf3.jpg', 1)\n",
    "    cv2.imshow(\"Original Image\", OriginalImage)\n",
    "#Creating R,G and B channels    \n",
    "    b = OriginalImage[:, :, 0]\n",
    "    g = OriginalImage[:, :, 1]\n",
    "    r = OriginalImage[:, :, 2]\n",
    "    cv2.imshow(\"Red Channel\", r)\n",
    "    cv2.imshow(\"Green Channel\", g)\n",
    "    cv2.imshow(\"Blue Channel\", b)\n",
    "    Disease = r - g\n",
    "#Defining Alpha channel    \n",
    "    global Alpha\n",
    "    Alpha = b\n",
    "    GetAlpha(OriginalImage)\n",
    "    cv2.imshow(\"Alpha Channel\", Alpha)\n",
    "#Creating disease image by applying processing factor on processed (r-g)result    \n",
    "    ProcessingFactor = S.get()\n",
    "    for i in range(0, OriginalImage.shape[0]):\n",
    "        for j in range(0, OriginalImage.shape[1]):\n",
    "            if int(g[i, j]) > ProcessingFactor:\n",
    "                Disease[i, j] = 255\n",
    "    cv2.imshow(\"Disease Image.jpg\", Disease)\n",
    "    DisplayDiseasePercentage(Disease)\n",
    "    S.bind('<ButtonRelease-1>', ProcessImage)\n",
    "    MainWindow.mainloop()\n",
    "\n",
    "#Calculating Alpha channel\n",
    "def GetAlpha(OriginalImage):\n",
    "    global Alpha\n",
    "    for i in range(0, OriginalImage.shape[0]):\n",
    "        for j in range(0, OriginalImage.shape[1]):\n",
    "            if OriginalImage[i, j, 0] > 200 and OriginalImage[i, j, 1] > 200 and OriginalImage[i, j, 2] > 200:\n",
    "                Alpha[i, j] = 255\n",
    "            else:\n",
    "                Alpha[i, j] = 0\n",
    "\n",
    "#Reading from file\n",
    "def GetFile():\n",
    "    if len(sys.argv) > 1:\n",
    "        return sys.argv[1]\n",
    "    else:\n",
    "        return filedialog.askopenfilename(title=\"Select Image\")\n",
    "\n",
    "#Calculating disease percentage using processed image (Disease image) and (Alpha) channel\n",
    "def DisplayDiseasePercentage(Disease):\n",
    "    Count = 0\n",
    "    Res = 0\n",
    "    for i in range(0, Disease.shape[0]):\n",
    "        for j in range(0, Disease.shape[1]):\n",
    "            if Alpha[i, j] == 0:\n",
    "                Res += 1\n",
    "            if Disease[i, j] < S.get():\n",
    "                Count += 1\n",
    "    Percent = (Count / Res) * 100\n",
    "    DiseasePercent.set(\"Percentage Disease: \" + str(round(Percent, 2)) + \"%\")\n",
    "\n",
    "#Creating window of Processing factor to display disease percentage\n",
    "Alpha = None\n",
    "MainWindow = tkinter.Tk()\n",
    "MainWindow.title(\"Plant Disease Detector\")\n",
    "\n",
    "S = tkinter.Scale(MainWindow, from_=0, to=255, length=500, orient=tkinter.HORIZONTAL,\n",
    "                  background='white', fg='black', troughcolor='white', label=\"Processing Factor\")\n",
    "S.pack()\n",
    "#Using default value of processing factor = 150\n",
    "S.set(150)\n",
    "\n",
    "DiseasePercent = tkinter.StringVar()\n",
    "L = tkinter.Label(MainWindow, textvariable=DiseasePercent)\n",
    "L.pack()\n",
    "\n",
    "filename = GetFile()\n",
    "if filename != \"\":\n",
    "    ProcessImage(None)\n",
    "else:\n",
    "    print(\"No File!\")\n",
    "    exit(0)"
   ]
  },
  {
   "cell_type": "code",
   "execution_count": null,
   "id": "c3ffb1c3",
   "metadata": {},
   "outputs": [],
   "source": []
  }
 ],
 "metadata": {
  "kernelspec": {
   "display_name": "Python 3 (ipykernel)",
   "language": "python",
   "name": "python3"
  },
  "language_info": {
   "codemirror_mode": {
    "name": "ipython",
    "version": 3
   },
   "file_extension": ".py",
   "mimetype": "text/x-python",
   "name": "python",
   "nbconvert_exporter": "python",
   "pygments_lexer": "ipython3",
   "version": "3.9.13"
  },
  "varInspector": {
   "cols": {
    "lenName": 16,
    "lenType": 16,
    "lenVar": 40
   },
   "kernels_config": {
    "python": {
     "delete_cmd_postfix": "",
     "delete_cmd_prefix": "del ",
     "library": "var_list.py",
     "varRefreshCmd": "print(var_dic_list())"
    },
    "r": {
     "delete_cmd_postfix": ") ",
     "delete_cmd_prefix": "rm(",
     "library": "var_list.r",
     "varRefreshCmd": "cat(var_dic_list()) "
    }
   },
   "types_to_exclude": [
    "module",
    "function",
    "builtin_function_or_method",
    "instance",
    "_Feature"
   ],
   "window_display": false
  }
 },
 "nbformat": 4,
 "nbformat_minor": 5
}
